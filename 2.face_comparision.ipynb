{
 "cells": [
  {
   "cell_type": "code",
   "execution_count": 1,
   "metadata": {},
   "outputs": [],
   "source": [
    "import cv2\n",
    "from PIL import Image\n",
    "import argparse\n",
    "from pathlib import Path\n",
    "from multiprocessing import Process, Pipe,Value,Array\n",
    "import torch\n",
    "from config import get_config\n",
    "from mtcnn import MTCNN\n",
    "from Learner import face_learner\n",
    "from utils import load_facebank, draw_box_name, prepare_facebank\n",
    "import matplotlib.pyplot as plt"
   ]
  },
  {
   "cell_type": "code",
   "execution_count": 2,
   "metadata": {},
   "outputs": [
    {
     "name": "stdout",
     "output_type": "stream",
     "text": [
      "mtcnn loaded\n",
      "{'data_path': WindowsPath('data'), 'work_path': WindowsPath('work_space'), 'model_path': WindowsPath('work_space/models'), 'log_path': WindowsPath('work_space/log'), 'save_path': WindowsPath('work_space/save'), 'input_size': [112, 112], 'embedding_size': 512, 'use_mobilfacenet': False, 'net_depth': 50, 'drop_ratio': 0.6, 'net_mode': 'ir_se', 'device': device(type='cuda', index=0), 'test_transform': Compose(\n",
      "    ToTensor()\n",
      "    Normalize(mean=[0.5, 0.5, 0.5], std=[0.5, 0.5, 0.5])\n",
      "), 'data_mode': 'emore', 'vgg_folder': WindowsPath('data/faces_vgg_112x112'), 'ms1m_folder': WindowsPath('data/faces_ms1m_112x112'), 'emore_folder': WindowsPath('data/faces_emore'), 'batch_size': 100, 'facebank_path': WindowsPath('data/facebank'), 'threshold': 1.5, 'face_limit': 10, 'min_face_size': 50}\n",
      "ir_se_50 model generated\n",
      "learner loaded\n"
     ]
    }
   ],
   "source": [
    "conf = get_config(False)\n",
    "\n",
    "mtcnn = MTCNN()\n",
    "print('mtcnn loaded')\n",
    "\n",
    "learner = face_learner(conf, True)\n",
    "learner.threshold = conf.threshold\n",
    "if conf.device.type == 'cpu':\n",
    "    learner.load_state(conf, 'cpu_final.pth', True, True)\n",
    "else:\n",
    "    learner.load_state(conf, 'final.pth', True, True)\n",
    "learner.model.eval()\n",
    "print('learner loaded')"
   ]
  },
  {
   "cell_type": "code",
   "execution_count": 3,
   "metadata": {},
   "outputs": [
    {
     "name": "stdout",
     "output_type": "stream",
     "text": [
      "facebank loaded\n"
     ]
    }
   ],
   "source": [
    "update = False   # whether perform update the facebank\n",
    "tta = True      # whether test time augmentation\n",
    "\n",
    "if update:\n",
    "    targets, names = prepare_facebank(conf, learner.model, mtcnn, tta = tta)\n",
    "    print('facebank updated')\n",
    "else:\n",
    "    targets, names = load_facebank(conf)\n",
    "    print('facebank loaded')"
   ]
  },
  {
   "cell_type": "code",
   "execution_count": 16,
   "metadata": {},
   "outputs": [],
   "source": [
    "frame = cv2.imread(r\"data\\facebank\\P00973\\2023-11-16_06-58-28_SYePjI4Iq0.jpg\")\n",
    "\n",
    "# image = Image.fromarray(frame[...,::-1]) #bgr to rgb\n",
    "image = Image.fromarray(frame)\n",
    "bboxes, faces = mtcnn.align_multi(image, conf.face_limit, conf.min_face_size)\n",
    "bboxes = bboxes[:,:-1] #shape:[10,4],only keep 10 highest possibiity faces\n",
    "bboxes = bboxes.astype(int)\n",
    "bboxes = bboxes + [-1,-1,1,1] # personal choice    \n",
    "results, score = learner.infer(conf, faces, targets, tta)\n",
    "for idx,bbox in enumerate(bboxes):\n",
    "    frame = draw_box_name(bbox, names[results[idx] + 1] + '_{:.2f}'.format(score[idx]), frame)\n",
    "cv2.imshow(\"f\", frame)\n",
    "cv2.waitKey(0)\n",
    "cv2.destroyAllWindows()"
   ]
  },
  {
   "cell_type": "code",
   "execution_count": 5,
   "metadata": {},
   "outputs": [
    {
     "name": "stdout",
     "output_type": "stream",
     "text": [
      "[[155.89641237 242.81780243 259.6726802  376.72889587   0.99372113]]\n"
     ]
    }
   ],
   "source": [
    "frame = cv2.imread(r\"data\\facebank\\P00033\\2023-07-08_21-01-21_4Ku3fd5tX4.jpg\")\n",
    "image = Image.fromarray(frame)\n",
    "bboxes, faces = mtcnn.detect_faces(image, min_face_size=50)\n",
    "print(bboxes)"
   ]
  }
 ],
 "metadata": {
  "kernelspec": {
   "display_name": "Python 3",
   "language": "python",
   "name": "python3"
  },
  "language_info": {
   "codemirror_mode": {
    "name": "ipython",
    "version": 3
   },
   "file_extension": ".py",
   "mimetype": "text/x-python",
   "name": "python",
   "nbconvert_exporter": "python",
   "pygments_lexer": "ipython3",
   "version": "3.8.0"
  }
 },
 "nbformat": 4,
 "nbformat_minor": 2
}
