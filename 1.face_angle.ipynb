{
 "cells": [
  {
   "cell_type": "code",
   "execution_count": null,
   "metadata": {},
   "outputs": [
    {
     "name": "stderr",
     "output_type": "stream",
     "text": [
      "c:\\Users\\vohungvi\\AppData\\Local\\Programs\\Python\\Python38\\lib\\site-packages\\albumentations\\__init__.py:13: UserWarning: A new version of Albumentations is available: 2.0.4 (you have 1.4.18). Upgrade using: pip install -U albumentations. To disable automatic update checks, set the environment variable NO_ALBUMENTATIONS_UPDATE to 1.\n",
      "  check_for_updates()\n"
     ]
    },
    {
     "name": "stdout",
     "output_type": "stream",
     "text": [
      "Applied providers: ['CPUExecutionProvider'], with options: {'CPUExecutionProvider': {}}\n",
      "find model: C:\\Users\\vohungvi/.insightface\\models\\buffalo_l\\1k3d68.onnx landmark_3d_68 ['None', 3, 192, 192] 0.0 1.0\n",
      "Applied providers: ['CPUExecutionProvider'], with options: {'CPUExecutionProvider': {}}\n",
      "find model: C:\\Users\\vohungvi/.insightface\\models\\buffalo_l\\2d106det.onnx landmark_2d_106 ['None', 3, 192, 192] 0.0 1.0\n",
      "Applied providers: ['CPUExecutionProvider'], with options: {'CPUExecutionProvider': {}}\n",
      "find model: C:\\Users\\vohungvi/.insightface\\models\\buffalo_l\\det_10g.onnx detection [1, 3, '?', '?'] 127.5 128.0\n",
      "Applied providers: ['CPUExecutionProvider'], with options: {'CPUExecutionProvider': {}}\n",
      "find model: C:\\Users\\vohungvi/.insightface\\models\\buffalo_l\\genderage.onnx genderage ['None', 3, 96, 96] 0.0 1.0\n",
      "Applied providers: ['CPUExecutionProvider'], with options: {'CPUExecutionProvider': {}}\n",
      "find model: C:\\Users\\vohungvi/.insightface\\models\\buffalo_l\\w600k_r50.onnx recognition ['None', 3, 112, 112] 127.5 127.5\n",
      "set det-size: (640, 640)\n"
     ]
    }
   ],
   "source": [
    "def classify_head_pose(yaw, pitch, roll, YAW_THRESHOLD = 20, PITCH_THRESHOLD = 20, ROLL_THRESHOLD = 20):\n",
    "    \"\"\"\n",
    "    Classifies head pose based on yaw, pitch, and roll angles.\n",
    "\n",
    "    Parameters:\n",
    "    - yaw (float): Horizontal head rotation (left/right).\n",
    "    - pitch (float): Vertical head movement (up/down).\n",
    "    - roll (float): Head tilt (sideways).\n",
    "\n",
    "    Returns:\n",
    "    - String representing the classified head pose.\n",
    "    \"\"\"\n",
    "\n",
    "    # Classify yaw (left/right)\n",
    "    if yaw < -YAW_THRESHOLD:\n",
    "        return \"Looking Down\"\n",
    "    elif yaw > YAW_THRESHOLD:\n",
    "        return \"Looking Up\"\n",
    "\n",
    "    # Classify pitch (up/down)\n",
    "    if pitch > PITCH_THRESHOLD:\n",
    "        return \"Looking Left\"\n",
    "    elif pitch < -PITCH_THRESHOLD:\n",
    "        return \"Looking Right\"\n",
    "\n",
    "    # Classify roll (head tilting)\n",
    "    if roll > ROLL_THRESHOLD:\n",
    "        return \"Tilting Left\"\n",
    "    elif roll < -ROLL_THRESHOLD:\n",
    "        return \"Tilting Right\"\n",
    "\n",
    "    # Default case: looking straight\n",
    "    return \"Straight\"\n"
   ]
  },
  {
   "cell_type": "code",
   "execution_count": 4,
   "metadata": {},
   "outputs": [
    {
     "name": "stdout",
     "output_type": "stream",
     "text": [
      "Applied providers: ['CPUExecutionProvider'], with options: {'CPUExecutionProvider': {}}\n",
      "find model: C:\\Users\\vohungvi/.insightface\\models\\buffalo_l\\1k3d68.onnx landmark_3d_68 ['None', 3, 192, 192] 0.0 1.0\n",
      "Applied providers: ['CPUExecutionProvider'], with options: {'CPUExecutionProvider': {}}\n",
      "find model: C:\\Users\\vohungvi/.insightface\\models\\buffalo_l\\2d106det.onnx landmark_2d_106 ['None', 3, 192, 192] 0.0 1.0\n",
      "Applied providers: ['CPUExecutionProvider'], with options: {'CPUExecutionProvider': {}}\n",
      "find model: C:\\Users\\vohungvi/.insightface\\models\\buffalo_l\\det_10g.onnx detection [1, 3, '?', '?'] 127.5 128.0\n",
      "Applied providers: ['CPUExecutionProvider'], with options: {'CPUExecutionProvider': {}}\n",
      "find model: C:\\Users\\vohungvi/.insightface\\models\\buffalo_l\\genderage.onnx genderage ['None', 3, 96, 96] 0.0 1.0\n",
      "Applied providers: ['CPUExecutionProvider'], with options: {'CPUExecutionProvider': {}}\n",
      "find model: C:\\Users\\vohungvi/.insightface\\models\\buffalo_l\\w600k_r50.onnx recognition ['None', 3, 112, 112] 127.5 127.5\n",
      "set det-size: (640, 640)\n",
      "Straight\n"
     ]
    },
    {
     "name": "stderr",
     "output_type": "stream",
     "text": [
      "c:\\Users\\vohungvi\\AppData\\Local\\Programs\\Python\\Python38\\lib\\site-packages\\insightface\\utils\\transform.py:68: FutureWarning: `rcond` parameter will change to the default of machine precision times ``max(M, N)`` where M and N are the input matrix dimensions.\n",
      "To use the future default and silence this warning we advise to pass `rcond=None`, to keep using the old, explicitly pass `rcond=-1`.\n",
      "  P = np.linalg.lstsq(X_homo, Y)[0].T # Affine matrix. 3 x 4\n"
     ]
    }
   ],
   "source": [
    "import insightface\n",
    "import cv2\n",
    "\n",
    "# Load the face detection model\n",
    "detector = insightface.app.FaceAnalysis(name='buffalo_l', providers=['CPUExecutionProvider'])\n",
    "detector.prepare(ctx_id=0)\n",
    "\n",
    "# Read an image\n",
    "img = cv2.imread(\"faceset/image.jpg\")\n",
    "faces = detector.get(img)\n",
    "# Get the largest detected face (assuming main subject)\n",
    "face = max(faces, key=lambda f: f.bbox[2] - f.bbox[0])\n",
    "\n",
    "# Extract pose values (yaw, pitch, roll)\n",
    "yaw, pitch, roll = face.pose\n",
    "\n",
    "# Classify head pose\n",
    "predicted_class = classify_head_pose(yaw, pitch, roll)\n",
    "\n",
    "print(predicted_class)"
   ]
  },
  {
   "cell_type": "code",
   "execution_count": null,
   "metadata": {},
   "outputs": [
    {
     "name": "stdout",
     "output_type": "stream",
     "text": [
      "Applied providers: ['CPUExecutionProvider'], with options: {'CPUExecutionProvider': {}}\n",
      "find model: C:\\Users\\vohungvi/.insightface\\models\\buffalo_l\\1k3d68.onnx landmark_3d_68 ['None', 3, 192, 192] 0.0 1.0\n",
      "Applied providers: ['CPUExecutionProvider'], with options: {'CPUExecutionProvider': {}}\n",
      "find model: C:\\Users\\vohungvi/.insightface\\models\\buffalo_l\\2d106det.onnx landmark_2d_106 ['None', 3, 192, 192] 0.0 1.0\n",
      "Applied providers: ['CPUExecutionProvider'], with options: {'CPUExecutionProvider': {}}\n",
      "find model: C:\\Users\\vohungvi/.insightface\\models\\buffalo_l\\det_10g.onnx detection [1, 3, '?', '?'] 127.5 128.0\n",
      "Applied providers: ['CPUExecutionProvider'], with options: {'CPUExecutionProvider': {}}\n",
      "find model: C:\\Users\\vohungvi/.insightface\\models\\buffalo_l\\genderage.onnx genderage ['None', 3, 96, 96] 0.0 1.0\n",
      "Applied providers: ['CPUExecutionProvider'], with options: {'CPUExecutionProvider': {}}\n",
      "find model: C:\\Users\\vohungvi/.insightface\\models\\buffalo_l\\w600k_r50.onnx recognition ['None', 3, 112, 112] 127.5 127.5\n",
      "set det-size: (640, 640)\n"
     ]
    }
   ],
   "source": [
    "def test_with_camera():\n",
    "    cap = cv2.VideoCapture(0)  # Open webcam\n",
    "\n",
    "    while True:\n",
    "        ret, frame = cap.read()\n",
    "        if not ret:\n",
    "            break\n",
    "\n",
    "        # Convert BGR to RGB (InsightFace expects RGB)\n",
    "        rgb_frame = cv2.cvtColor(frame, cv2.COLOR_BGR2RGB)\n",
    "\n",
    "        # Detect faces\n",
    "        faces = detector.get(rgb_frame)\n",
    "\n",
    "        if faces:\n",
    "            # Get the largest detected face (assuming main subject)\n",
    "            face = max(faces, key=lambda f: f.bbox[2] - f.bbox[0])\n",
    "\n",
    "            # Extract pose values (yaw, pitch, roll)\n",
    "            yaw, pitch, roll = face.pose\n",
    "\n",
    "            # Classify head pose\n",
    "            predicted_class = classify_head_pose(yaw, pitch, roll)\n",
    "\n",
    "            # Draw bounding box around the face\n",
    "            x1, y1, x2, y2 = map(int, face.bbox)\n",
    "            cv2.rectangle(frame, (x1, y1), (x2, y2), (0, 255, 0), 2)\n",
    "\n",
    "            # Display yaw, pitch, roll values\n",
    "            cv2.putText(frame, f\"Yaw: {yaw:.2f}, Pitch: {pitch:.2f}, Roll: {roll:.2f}\", \n",
    "                        (10, 30), cv2.FONT_HERSHEY_SIMPLEX, 0.7, (255, 255, 255), 2)\n",
    "\n",
    "            # Display prediction\n",
    "            cv2.putText(frame, f\"Pose: {predicted_class}\", \n",
    "                        (10, 60), cv2.FONT_HERSHEY_SIMPLEX, 1, (0, 255, 255), 2)\n",
    "\n",
    "        # Show the frame\n",
    "        cv2.imshow('Real-time Head Pose Classification', frame)\n",
    "\n",
    "        # Press 'q' to quit\n",
    "        if cv2.waitKey(1) & 0xFF == ord('q'):\n",
    "            break\n",
    "\n",
    "    cap.release()\n",
    "    cv2.destroyAllWindows()\n",
    "\n"
   ]
  },
  {
   "cell_type": "code",
   "execution_count": null,
   "metadata": {},
   "outputs": [],
   "source": [
    "# Run webcam test\n",
    "test_with_camera()"
   ]
  }
 ],
 "metadata": {
  "kernelspec": {
   "display_name": "Python 3",
   "language": "python",
   "name": "python3"
  },
  "language_info": {
   "codemirror_mode": {
    "name": "ipython",
    "version": 3
   },
   "file_extension": ".py",
   "mimetype": "text/x-python",
   "name": "python",
   "nbconvert_exporter": "python",
   "pygments_lexer": "ipython3",
   "version": "3.8.0"
  }
 },
 "nbformat": 4,
 "nbformat_minor": 2
}
